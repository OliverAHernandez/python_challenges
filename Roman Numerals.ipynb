{
 "cells": [
  {
   "cell_type": "markdown",
   "metadata": {},
   "source": [
    "# Challenge"
   ]
  },
  {
   "cell_type": "markdown",
   "metadata": {},
   "source": [
    "### Create a function that takes a Roman numeral as its argument and returns its value as a numeric decimal integer.\n",
    "***You don't need to validate the form of the Roman numeral.***\n",
    "\n",
    "Modern Roman numerals are written by expressing each decimal digit of the number to be encoded separately, starting with the leftmost digit and skipping any 0s. So 1990 is rendered \"MCMXC\" (1000 = M, 900 = CM, 90 = XC) and 2008 is rendered \"MMVIII\" (2000 = MM, 8 = VIII). The Roman numeral for 1666, \"MDCLXVI\", uses each letter in descending order.\n",
    "\n",
    "Example:"
   ]
  },
  {
   "cell_type": "markdown",
   "metadata": {},
   "source": [
    "## Example:\n",
    "\n",
    "### romanize('XXI') \n",
    "`>>>return 21`\n"
   ]
  },
  {
   "cell_type": "markdown",
   "metadata": {},
   "source": [
    "## Help:"
   ]
  },
  {
   "cell_type": "markdown",
   "metadata": {},
   "source": [
    "### Symbol by value\n",
    "\n",
    "|Symbol|Value|\n",
    "|---:|---:|\n",
    "|I|1|\n",
    "|V|5|\n",
    "|X|10|\n",
    "|L|50|\n",
    "|C|100|\n",
    "|D|500|\n",
    "|M|1,000|\n"
   ]
  },
  {
   "cell_type": "code",
   "execution_count": 4,
   "metadata": {},
   "outputs": [],
   "source": [
    "I=1\n",
    "V=5\n",
    "X=10\n",
    "L=50\n",
    "C=100\n",
    "D=500\n",
    "M= 1_000"
   ]
  },
  {
   "cell_type": "code",
   "execution_count": 5,
   "metadata": {},
   "outputs": [],
   "source": [
    "test = \"XXI\""
   ]
  },
  {
   "cell_type": "code",
   "execution_count": 6,
   "metadata": {},
   "outputs": [],
   "source": [
    "my_values = {\n",
    "    \"I\" : I,\n",
    "    \"V\" : V,\n",
    "    \"X\" : X,\n",
    "    \"L\" : L,\n",
    "    \"C\" : C,\n",
    "    \"D\" : D,\n",
    "    \"M\" : M\n",
    "}"
   ]
  },
  {
   "cell_type": "code",
   "execution_count": 7,
   "metadata": {},
   "outputs": [],
   "source": [
    "result = sum([my_values[i] for i in test])"
   ]
  },
  {
   "cell_type": "code",
   "execution_count": 8,
   "metadata": {},
   "outputs": [
    {
     "name": "stdout",
     "output_type": "stream",
     "text": [
      "21\n"
     ]
    }
   ],
   "source": [
    "print(result) # Let's check what the result is"
   ]
  },
  {
   "cell_type": "code",
   "execution_count": 25,
   "metadata": {},
   "outputs": [
    {
     "data": {
      "text/plain": [
       "6"
      ]
     },
     "execution_count": 25,
     "metadata": {},
     "output_type": "execute_result"
    }
   ],
   "source": [
    "sum([my_values[i] for i in \"IV\"]) # Now let's test more complex problem"
   ]
  },
  {
   "cell_type": "markdown",
   "metadata": {},
   "source": [
    "## Function\n",
    "\n",
    "**It works - now let's turn it into a function**"
   ]
  },
  {
   "cell_type": "code",
   "execution_count": 26,
   "metadata": {},
   "outputs": [],
   "source": [
    "def romanize(roman):\n",
    "    my_values = {\"I\" : 1, \"V\" : 5,\"X\" : 10,\"L\" : 50,\"C\" : 100, \"D\" : 500,\"M\" : 1_000}\n",
    "    numerical = [my_values[i] for i in roman]\n",
    "    # We need to account for numbers like IV who actually equal 4 or 5-1 instead of 1+5 or 6 \n",
    "    for i in range(len(numerical)):\n",
    "        try:\n",
    "            if numerical[i] < numerical[i+1] or numerical[i] < numerical[i+2]:\n",
    "                numerical[i]*= -1 \n",
    "        except:\n",
    "            pass\n",
    "\n",
    "    return sum(numerical)"
   ]
  },
  {
   "cell_type": "code",
   "execution_count": 27,
   "metadata": {},
   "outputs": [
    {
     "data": {
      "text/plain": [
       "3"
      ]
     },
     "execution_count": 27,
     "metadata": {},
     "output_type": "execute_result"
    }
   ],
   "source": [
    "romanize(\"IIV\")"
   ]
  },
  {
   "cell_type": "markdown",
   "metadata": {},
   "source": [
    "### Completed \n",
    "This function passed all of the tests on [codewars](https://www.codewars.com/kata/51b6249c4612257ac0000005/train/python)"
   ]
  }
 ],
 "metadata": {
  "kernelspec": {
   "display_name": "Python 3",
   "language": "python",
   "name": "python3"
  },
  "language_info": {
   "codemirror_mode": {
    "name": "ipython",
    "version": 3
   },
   "file_extension": ".py",
   "mimetype": "text/x-python",
   "name": "python",
   "nbconvert_exporter": "python",
   "pygments_lexer": "ipython3",
   "version": "3.7.4"
  }
 },
 "nbformat": 4,
 "nbformat_minor": 2
}
